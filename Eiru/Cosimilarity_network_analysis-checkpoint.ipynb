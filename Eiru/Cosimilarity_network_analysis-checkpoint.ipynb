{
 "cells": [
  {
   "cell_type": "code",
   "execution_count": 2,
   "metadata": {},
   "outputs": [
    {
     "name": "stdout",
     "output_type": "stream",
     "text": [
      "Populating the interactive namespace from numpy and matplotlib\n"
     ]
    }
   ],
   "source": [
    "%pylab inline\n",
    "import scipy.stats as stats\n",
    "import pandas as pd\n",
    "import seaborn as sns\n",
    "\n",
    "sns.set_style('white')\n",
    "sns.set_context(\"talk\")\n",
    "\n",
    "rcParams['font.size']=12\n",
    "rcParams['pdf.fonttype']=42\n",
    "rcParams['font.family'] = 'sans-serif'\n",
    "rcParams['font.sans-serif'] = ['Arial']"
   ]
  },
  {
   "cell_type": "code",
   "execution_count": 3,
   "metadata": {},
   "outputs": [],
   "source": [
    "# Eiru Kim <rooeikim@gmail.com>"
   ]
  },
  {
   "cell_type": "markdown",
   "metadata": {},
   "source": [
    "# Construct normZ table from drugZ data"
   ]
  },
  {
   "cell_type": "code",
   "execution_count": null,
   "metadata": {},
   "outputs": [],
   "source": [
    "! cat drugzlist"
   ]
  },
  {
   "cell_type": "code",
   "execution_count": 4,
   "metadata": {},
   "outputs": [],
   "source": [
    "# load drugz list\n",
    "genelist = list()\n",
    "\n",
    "#define geneset\n",
    "with open (\"drugzlist\",\"r\") as fp:\n",
    "    for line in fp:\n",
    "        line = line.rstrip()\n",
    "        data = pd.read_table(line,header = 0,index_col=0)\n",
    "        genelist.extend(data.index)\n",
    "genelist = list(set(genelist))\n",
    "\n",
    "drugzdata = pd.DataFrame(index=genelist)\n",
    "fdrdata=pd.DataFrame(index=genelist)\n",
    "fdrdata_synth = pd.DataFrame(index=genelist)\n",
    "fdrdata_supp = pd.DataFrame(index=genelist)\n",
    "siggenes = list()\n",
    "\n",
    "#load drugz files\n",
    "with open (\"drugzlist\",\"r\") as fp:\n",
    "    for line in fp:\n",
    "        line = line.rstrip()\n",
    "        name = line.split(\".\")[0]\n",
    "        data = pd.read_table(line,header = 0,index_col=0)\n",
    "        drugzdata[name] = data['normZ'] # Collect NormZ values\n",
    "        fdrdata[name] = data[['fdr_synth','fdr_supp']].min(axis=1)\n",
    "        fdrdata_synth[name] = data['fdr_synth']\n",
    "        fdrdata_supp[name] = data['fdr_supp']\n",
    "        siggenes.extend(data[(data['fdr_synth']<0.1)|(data['fdr_supp']<0.1)].index)  # significant genes"
   ]
  },
  {
   "cell_type": "code",
   "execution_count": 5,
   "metadata": {},
   "outputs": [],
   "source": [
    "# Save the table of NormZ score\n",
    "drugzdata.fillna(0.0,inplace=True)\n",
    "drugzdata.to_csv(\"drugzdata_fillna.txt\",sep=\"\\t\")"
   ]
  },
  {
   "cell_type": "code",
   "execution_count": 6,
   "metadata": {},
   "outputs": [],
   "source": [
    "# calculate # of cells where a gene is significant \n",
    "unique, counts = np.unique(siggenes, return_counts=True)"
   ]
  },
  {
   "cell_type": "code",
   "execution_count": 7,
   "metadata": {},
   "outputs": [],
   "source": [
    "# calculate # of genes significant at at least n data points\n",
    "# (FDR < 0.1 either synthetic lethal or suppressor)\n",
    "\n",
    "genesperess = {x:[] for x in range(13)}\n",
    "for i in range(len(unique)):\n",
    "    g = unique[i]\n",
    "    c = counts[i]\n",
    "    \n",
    "    for j in range(0,c+1):\n",
    "        genesperess[j].append(g)\n",
    "    \n",
    "\n",
    "genesperess[0] = drugzdata.index\n",
    "    "
   ]
  },
  {
   "cell_type": "code",
   "execution_count": 12,
   "metadata": {},
   "outputs": [
    {
     "name": "stdout",
     "output_type": "stream",
     "text": [
      "n_cells #_of_genes\n",
      "0 19072\n",
      "1 2805\n",
      "2 1270\n",
      "3 548\n",
      "4 285\n",
      "5 144\n",
      "6 89\n",
      "7 53\n",
      "8 30\n",
      "9 17\n",
      "10 13\n",
      "11 6\n",
      "12 5\n"
     ]
    }
   ],
   "source": [
    "# # of genes significant at at least n cells\n",
    "print(\"n_cells #_of_genes\")\n",
    "for i in range(13):\n",
    "    print (i, len(genesperess[i]))"
   ]
  },
  {
   "cell_type": "code",
   "execution_count": 13,
   "metadata": {},
   "outputs": [],
   "source": [
    "# save # of genes significant at at least n cells\n",
    "with open('targetgenes_fdr01_threshold_2019.txt','w') as fout:\n",
    "    for i in range(13):\n",
    "        fout.write(f\"{i}\\t\" + \",\".join(genesperess[i]))"
   ]
  },
  {
   "cell_type": "raw",
   "metadata": {},
   "source": [
    "## calculate pcc for all pairs\n",
    "\n",
    "outputfile = \"drugz_corr_network_all\"\n",
    "network={x:dict() for x in drugzdata.index}\n",
    "\n",
    "with open(outputfile,'w') as fout:\n",
    "    #fout.write(\"GENEA\\tGENEB\\tPCC\\tPVALUE\\n\")\n",
    "    for i in range(len(drugzdata.index)):\n",
    "        if i%100 == 0: \n",
    "            print(i) # print progress\n",
    "        for j in range(i+1,len(drugzdata.index)):\n",
    "            genea = drugzdata.index[i]\n",
    "            geneb = drugzdata.index[j]\n",
    "            pcc,pvalue = stats.pearsonr(drugzdata.ix[i],drugzdata.ix[j])\n",
    "            fout.write(\"%s\\t%s\\t%.5f\\t%.4e\\n\"%(genea,geneb,pcc,pvalue))\n",
    "            network[genea][geneb]=pcc\n",
    "\n",
    "# sort all pairs\n",
    "! echo \"Sorting start\"\n",
    "! sort -gr -k 3 drugz_corr_network_all  > drugz_corr_network_all.sorted"
   ]
  },
  {
   "cell_type": "code",
   "execution_count": 14,
   "metadata": {},
   "outputs": [],
   "source": [
    "# Read the pre-calculated network  \"drugz_corr_network_all.sorted\"\n",
    "# Then generate sub-networks based on genelists per # of significant cells\n",
    "\n",
    "for i in range(1,13):\n",
    "    targetgeneset = set(genesperess[i])\n",
    "    with open('drugz_corr_network_filtered_thre%d.sorted'%i,'w') as fout:\n",
    "        with open('drugz_corr_network_all.sorted','r') as fp:\n",
    "            for line in fp:\n",
    "                linearray = line.rstrip().split(\"\\t\")\n",
    "                if linearray[0] in targetgeneset and linearray[1] in targetgeneset:\n",
    "                    fout.write(line)"
   ]
  },
  {
   "cell_type": "code",
   "execution_count": null,
   "metadata": {},
   "outputs": [],
   "source": []
  },
  {
   "cell_type": "markdown",
   "metadata": {},
   "source": [
    "# Network optimization\n",
    "## Benchmark networks to select the best"
   ]
  },
  {
   "cell_type": "code",
   "execution_count": 22,
   "metadata": {},
   "outputs": [],
   "source": [
    "# cut networks off by pvalue 0.01 to benchmark only significant pairs\n",
    "! python -W ignore ./cut_pcc.py drugz_corr_network_all.sorted drugz_corr_network_all.sorted.cut 0.01\n",
    "! python -W ignore ./cut_pcc.py drugz_corr_network_filtered_thre1.sorted drugz_corr_network_filtered_thre1.sorted.cut 0.01\n",
    "! python -W ignore ./cut_pcc.py drugz_corr_network_filtered_thre2.sorted drugz_corr_network_filtered_thre2.sorted.cut 0.01\n",
    "! python -W ignore ./cut_pcc.py drugz_corr_network_filtered_thre3.sorted drugz_corr_network_filtered_thre3.sorted.cut 0.01\n",
    "! python -W ignore ./cut_pcc.py drugz_corr_network_filtered_thre4.sorted drugz_corr_network_filtered_thre4.sorted.cut 0.01\n",
    "! python -W ignore ./cut_pcc.py drugz_corr_network_filtered_thre5.sorted drugz_corr_network_filtered_thre5.sorted.cut 0.01\n",
    "! python -W ignore ./cut_pcc.py drugz_corr_network_filtered_thre6.sorted drugz_corr_network_filtered_thre6.sorted.cut 0.01\n",
    "! python -W ignore ./cut_pcc.py drugz_corr_network_filtered_thre7.sorted drugz_corr_network_filtered_thre7.sorted.cut 0.01\n",
    "! python -W ignore ./cut_pcc.py drugz_corr_network_filtered_thre8.sorted drugz_corr_network_filtered_thre8.sorted.cut 0.01\n",
    "! python -W ignore ./cut_pcc.py drugz_corr_network_filtered_thre9.sorted drugz_corr_network_filtered_thre9.sorted.cut 0.01\n",
    "! python -W ignore ./cut_pcc.py drugz_corr_network_filtered_thre10.sorted drugz_corr_network_filtered_thre10.sorted.cut 0.01\n",
    "! python -W ignore ./cut_pcc.py drugz_corr_network_filtered_thre11.sorted drugz_corr_network_filtered_thre11.sorted.cut 0.01\n",
    "! python -W ignore ./cut_pcc.py drugz_corr_network_filtered_thre12.sorted drugz_corr_network_filtered_thre12.sorted.cut 0.01"
   ]
  },
  {
   "cell_type": "code",
   "execution_count": 27,
   "metadata": {},
   "outputs": [
    {
     "name": "stdout",
     "output_type": "stream",
     "text": [
      "Opening corrs file\n",
      "Opening corrs file\n",
      "Opening corrs file\n",
      "Opening corrs file\n",
      "Opening corrs file\n",
      "Opening corrs file\n",
      "Opening corrs file\n",
      "Opening corrs file\n",
      "Opening corrs file\n",
      "Opening corrs file\n",
      "Opening corrs file\n",
      "Opening corrs file\n",
      "Opening corrs file\n"
     ]
    }
   ],
   "source": [
    "# run benchmark (LLS)\n",
    "! ./calc-LLS-of-pairs-cumulative_go.pl drugz_corr_network_all.sorted.cut drugz_corr_network_all.sorted.cut.bench_go\n",
    "! ./calc-LLS-of-pairs-cumulative_go.pl drugz_corr_network_filtered_thre1.sorted.cut drugz_corr_network_filtered_thre1.sorted.cut.bench_go\n",
    "! ./calc-LLS-of-pairs-cumulative_go.pl drugz_corr_network_filtered_thre2.sorted.cut drugz_corr_network_filtered_thre2.sorted.cut.bench_go\n",
    "! ./calc-LLS-of-pairs-cumulative_go.pl drugz_corr_network_filtered_thre3.sorted.cut drugz_corr_network_filtered_thre3.sorted.cut.bench_go\n",
    "! ./calc-LLS-of-pairs-cumulative_go.pl drugz_corr_network_filtered_thre4.sorted.cut drugz_corr_network_filtered_thre4.sorted.cut.bench_go\n",
    "! ./calc-LLS-of-pairs-cumulative_go.pl drugz_corr_network_filtered_thre5.sorted.cut drugz_corr_network_filtered_thre5.sorted.cut.bench_go\n",
    "! ./calc-LLS-of-pairs-cumulative_go.pl drugz_corr_network_filtered_thre6.sorted.cut drugz_corr_network_filtered_thre6.sorted.cut.bench_go\n",
    "! ./calc-LLS-of-pairs-cumulative_go.pl drugz_corr_network_filtered_thre7.sorted.cut drugz_corr_network_filtered_thre7.sorted.cut.bench_go\n",
    "! ./calc-LLS-of-pairs-cumulative_go.pl drugz_corr_network_filtered_thre8.sorted.cut drugz_corr_network_filtered_thre8.sorted.cut.bench_go\n",
    "! ./calc-LLS-of-pairs-cumulative_go.pl drugz_corr_network_filtered_thre9.sorted.cut drugz_corr_network_filtered_thre9.sorted.cut.bench_go\n",
    "! ./calc-LLS-of-pairs-cumulative_go.pl drugz_corr_network_filtered_thre10.sorted.cut drugz_corr_network_filtered_thre10.sorted.cut.bench_go\n",
    "! ./calc-LLS-of-pairs-cumulative_go.pl drugz_corr_network_filtered_thre11.sorted.cut drugz_corr_network_filtered_thre11.sorted.cut.bench_go\n",
    "! ./calc-LLS-of-pairs-cumulative_go.pl drugz_corr_network_filtered_thre12.sorted.cut drugz_corr_network_filtered_thre12.sorted.cut.bench_go"
   ]
  },
  {
   "cell_type": "code",
   "execution_count": 28,
   "metadata": {},
   "outputs": [],
   "source": [
    "# run benchmark (conditional LLS)\n",
    "! python -W ignore  ./calc_LLS_network_overlapgenes_pvalue.py Mouse_GOBP_AllPathways_no_GO_iea_September_01_2018_symbol.gmt drugz_corr_network_all.sorted 0.01 > drugz_corr_network_all.sorted.bench_overlap_cut\n",
    "! python -W ignore  ./calc_LLS_network_overlapgenes_pvalue.py Mouse_GOBP_AllPathways_no_GO_iea_September_01_2018_symbol.gmt drugz_corr_network_filtered_thre1.sorted 0.01 > drugz_corr_network_filtered_thre1.sorted.bench_overlap_cut\n",
    "! python -W ignore  ./calc_LLS_network_overlapgenes_pvalue.py Mouse_GOBP_AllPathways_no_GO_iea_September_01_2018_symbol.gmt drugz_corr_network_filtered_thre2.sorted 0.01 > drugz_corr_network_filtered_thre2.sorted.bench_overlap_cut\n",
    "! python -W ignore  ./calc_LLS_network_overlapgenes_pvalue.py Mouse_GOBP_AllPathways_no_GO_iea_September_01_2018_symbol.gmt drugz_corr_network_filtered_thre3.sorted 0.01 > drugz_corr_network_filtered_thre3.sorted.bench_overlap_cut\n",
    "! python -W ignore  ./calc_LLS_network_overlapgenes_pvalue.py Mouse_GOBP_AllPathways_no_GO_iea_September_01_2018_symbol.gmt drugz_corr_network_filtered_thre4.sorted 0.01 > drugz_corr_network_filtered_thre4.sorted.bench_overlap_cut\n",
    "! python -W ignore  ./calc_LLS_network_overlapgenes_pvalue.py Mouse_GOBP_AllPathways_no_GO_iea_September_01_2018_symbol.gmt drugz_corr_network_filtered_thre5.sorted 0.01 > drugz_corr_network_filtered_thre5.sorted.bench_overlap_cut\n",
    "! python -W ignore  ./calc_LLS_network_overlapgenes_pvalue.py Mouse_GOBP_AllPathways_no_GO_iea_September_01_2018_symbol.gmt drugz_corr_network_filtered_thre6.sorted 0.01 > drugz_corr_network_filtered_thre6.sorted.bench_overlap_cut\n",
    "! python -W ignore  ./calc_LLS_network_overlapgenes_pvalue.py Mouse_GOBP_AllPathways_no_GO_iea_September_01_2018_symbol.gmt drugz_corr_network_filtered_thre7.sorted 0.01 > drugz_corr_network_filtered_thre7.sorted.bench_overlap_cut\n",
    "! python -W ignore  ./calc_LLS_network_overlapgenes_pvalue.py Mouse_GOBP_AllPathways_no_GO_iea_September_01_2018_symbol.gmt drugz_corr_network_filtered_thre8.sorted 0.01 > drugz_corr_network_filtered_thre8.sorted.bench_overlap_cut\n",
    "! python -W ignore  ./calc_LLS_network_overlapgenes_pvalue.py Mouse_GOBP_AllPathways_no_GO_iea_September_01_2018_symbol.gmt drugz_corr_network_filtered_thre9.sorted 0.01 > drugz_corr_network_filtered_thre9.sorted.bench_overlap_cut\n",
    "! python -W ignore  ./calc_LLS_network_overlapgenes_pvalue.py Mouse_GOBP_AllPathways_no_GO_iea_September_01_2018_symbol.gmt drugz_corr_network_filtered_thre10.sorted 0.01 > drugz_corr_network_filtered_thre10.sorted.bench_overlap_cut\n",
    "! python -W ignore  ./calc_LLS_network_overlapgenes_pvalue.py Mouse_GOBP_AllPathways_no_GO_iea_September_01_2018_symbol.gmt drugz_corr_network_filtered_thre11.sorted 0.01 > drugz_corr_network_filtered_thre11.sorted.bench_overlap_cut\n",
    "! python -W ignore  ./calc_LLS_network_overlapgenes_pvalue.py Mouse_GOBP_AllPathways_no_GO_iea_September_01_2018_symbol.gmt drugz_corr_network_filtered_thre12.sorted 0.01 > drugz_corr_network_filtered_thre12.sorted.bench_overlap_cut\n",
    "\n"
   ]
  },
  {
   "cell_type": "code",
   "execution_count": 29,
   "metadata": {},
   "outputs": [
    {
     "name": "stdout",
     "output_type": "stream",
     "text": [
      "drugz_corr_network_all.sorted.bench_go\r\n",
      "drugz_corr_network_all.sorted.cut.bench_go\r\n",
      "drugz_corr_network_filtered_thre10.sorted.cut.bench_go\r\n",
      "drugz_corr_network_filtered_thre11.sorted.cut.bench_go\r\n",
      "drugz_corr_network_filtered_thre12.sorted.cut.bench_go\r\n",
      "drugz_corr_network_filtered_thre1.sorted.cut.bench_go\r\n",
      "drugz_corr_network_filtered_thre2.sorted.cut.bench_go\r\n",
      "drugz_corr_network_filtered_thre3.sorted.cut.bench_go\r\n",
      "drugz_corr_network_filtered_thre4.sorted.cut.bench_go\r\n",
      "drugz_corr_network_filtered_thre5.sorted.cut.bench_go\r\n",
      "drugz_corr_network_filtered_thre6.sorted.cut.bench_go\r\n",
      "drugz_corr_network_filtered_thre7.sorted.cut.bench_go\r\n",
      "drugz_corr_network_filtered_thre8.sorted.cut.bench_go\r\n",
      "drugz_corr_network_filtered_thre9.sorted.cut.bench_go\r\n"
     ]
    }
   ],
   "source": [
    "! ls *bench_go"
   ]
  },
  {
   "cell_type": "code",
   "execution_count": 31,
   "metadata": {},
   "outputs": [],
   "source": [
    "def fmeasure(p,r):\n",
    "    return 2.0 * p * r / float(p + r)"
   ]
  },
  {
   "cell_type": "code",
   "execution_count": 33,
   "metadata": {},
   "outputs": [
    {
     "name": "stdout",
     "output_type": "stream",
     "text": [
      "0.05361881896888507\n",
      "0.013005309607465106\n",
      "0.006738633817227564\n",
      "0.003908130101660619\n",
      "0.0026700335139145286\n",
      "0.0021548459638329573\n",
      "0.0019452969052072353\n",
      "0.0013559726882923198\n",
      "0.000979912378821774\n"
     ]
    },
    {
     "data": {
      "image/png": "[encoded data removed]",
      "text/plain": [
       "<Figure size 504x504 with 2 Axes>"
      ]
     },
     "metadata": {
      "needs_background": "light"
     },
     "output_type": "display_data"
    }
   ],
   "source": [
    "benchfiles = \"\"\"drugz_corr_network_all.sorted.cut.bench_go\n",
    "drugz_corr_network_filtered_thre1.sorted.cut.bench_go\n",
    "drugz_corr_network_filtered_thre2.sorted.cut.bench_go\n",
    "drugz_corr_network_filtered_thre3.sorted.cut.bench_go\n",
    "drugz_corr_network_filtered_thre4.sorted.cut.bench_go\n",
    "drugz_corr_network_filtered_thre5.sorted.cut.bench_go\n",
    "drugz_corr_network_filtered_thre6.sorted.cut.bench_go\n",
    "drugz_corr_network_filtered_thre7.sorted.cut.bench_go\n",
    "drugz_corr_network_filtered_thre8.sorted.cut.bench_go\"\"\"\n",
    "\n",
    "scores = list()\n",
    "firstlls = list()\n",
    "firstsyscov = list()\n",
    "firstpositives = list()\n",
    "cutoffsyscov = list()\n",
    "x = list()\n",
    "fig,ax = plt.subplots(2,figsize=(7,7), gridspec_kw={'height_ratios': [6, 3]})\n",
    "markers=[\"o\",'^']\n",
    "count=0\n",
    "\n",
    "for bench in benchfiles.split(\"\\n\"):\n",
    "    benchdata = pd.read_table(bench,index_col=None,header=None)\n",
    "    benchdata['Syscov'] = benchdata[5]/19072*100\n",
    "    if \"all\" in bench:\n",
    "        thre=\"all\"\n",
    "        x.append(0)\n",
    "    else:\n",
    "        thre = bench.replace(\"drugz_corr_network_filtered_thre\",\"\").replace(\".sorted.cut.bench_go\",\"\")\n",
    "        x.append(int(thre))\n",
    "    ax[0] = benchdata.rename(columns={6:thre}).plot(\"Syscov\",thre,ax=ax[0],legend=\"a\",marker=markers[int(count/6)])\n",
    "    count+=1\n",
    "    \n",
    "    firstlls.append(benchdata.iloc[0][6])\n",
    "    firstsyscov.append(benchdata.iloc[0]['Syscov']/100.0)\n",
    "    firstpositives.append(benchdata.iloc[0][3])\n",
    "    cutoffsyscov.append(benchdata.iloc[-1]['Syscov']/100.0)\n",
    "    scores.append(fmeasure(benchdata.iloc[0][6],benchdata.iloc[0]['Syscov']/100.0))\n",
    "    \n",
    "    print (benchdata.iloc[-1][6]*benchdata.iloc[-1]['Syscov']/100.0)\n",
    "    \n",
    "\n",
    "ax[0].set_xlim([-1,20])\n",
    "ax[0].tick_params(axis='y', labelsize=14)\n",
    "ax[0].tick_params(axis='x', labelsize=14)\n",
    "ax[0].set_xlabel(\"System coverage (%)\",size=16)\n",
    "ax[0].set_ylabel(\"Precision (%)\",size=16)\n",
    "ax[0].legend(fontsize=12)\n",
    "\n",
    "\n",
    "\n",
    "# plotting conditional LLS\n",
    "benchfiles = \"\"\"drugz_corr_network_all.sorted.bench_overlap_cut\n",
    "drugz_corr_network_filtered_thre1.sorted.bench_overlap_cut\n",
    "drugz_corr_network_filtered_thre2.sorted.bench_overlap_cut\n",
    "drugz_corr_network_filtered_thre3.sorted.bench_overlap_cut\n",
    "drugz_corr_network_filtered_thre4.sorted.bench_overlap_cut\n",
    "drugz_corr_network_filtered_thre5.sorted.bench_overlap_cut\n",
    "drugz_corr_network_filtered_thre6.sorted.bench_overlap_cut\n",
    "drugz_corr_network_filtered_thre7.sorted.bench_overlap_cut\n",
    "drugz_corr_network_filtered_thre8.sorted.bench_overlap_cut\"\"\"\n",
    "\n",
    "scores = list()\n",
    "firstcondlls = list()\n",
    "\n",
    "x = list()\n",
    "\n",
    "for bench in benchfiles.split(\"\\n\"):\n",
    "    benchdata = pd.read_table(bench,index_col=None,header=None)\n",
    "    if \"all\" in bench:\n",
    "        thre=\"all\"\n",
    "        x.append(0)\n",
    "    else:\n",
    "        thre = bench.replace(\"drugz_corr_network_filtered_thre\",\"\").replace(\".sorted.bench_overlap_cut\",\"\")\n",
    "        x.append(int(thre))\n",
    "    count+=1\n",
    "    \n",
    "    firstcondlls.append(benchdata.iloc[0][1])\n",
    "    \n",
    "ax[1].bar(x,firstcondlls,align='center',width=0.7,color='grey')\n",
    "xticks(range(9))\n",
    "ax[1].set_xticklabels(['all']+list(range(1,9)),size=14)\n",
    "yticks([2.0,1.0,0],size=14)\n",
    "ax[1].set_ylabel(\"LLS_conditional\",size=16)\n",
    "subplots_adjust(hspace=0.5)\n",
    "\n",
    "savefig(\"fig_lls_firstcondLLS.pdf\",format='pdf')\n",
    "show()"
   ]
  },
  {
   "cell_type": "markdown",
   "metadata": {
    "collapsed": true
   },
   "source": [
    "### the network with genes that are significant at least 3 data points shows the best performance conditional LLS\n",
    "### -> drugz_corr_network_filtered_thre3.sorted will be used for further analysis"
   ]
  },
  {
   "cell_type": "code",
   "execution_count": null,
   "metadata": {},
   "outputs": [],
   "source": []
  }
 ],
 "metadata": {
  "kernelspec": {
   "display_name": "Python 3",
   "language": "python",
   "name": "python3"
  },
  "language_info": {
   "codemirror_mode": {
    "name": "ipython",
    "version": 3
   },
   "file_extension": ".py",
   "mimetype": "text/x-python",
   "name": "python",
   "nbconvert_exporter": "python",
   "pygments_lexer": "ipython3",
   "version": "3.7.4"
  }
 },
 "nbformat": 4,
 "nbformat_minor": 1
}
